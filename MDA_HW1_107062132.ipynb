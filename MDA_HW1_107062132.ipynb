{
 "cells": [
  {
   "cell_type": "code",
   "execution_count": 29,
   "metadata": {},
   "outputs": [],
   "source": [
    "from pyspark import SparkConf, SparkContext\n",
    "import os"
   ]
  },
  {
   "cell_type": "code",
   "execution_count": 30,
   "metadata": {},
   "outputs": [],
   "source": [
    "conf = SparkConf().setMaster(\"local\").setAppName(\"matrix_multiplication\")\n",
    "sc = SparkContext(conf=conf)"
   ]
  },
  {
   "cell_type": "code",
   "execution_count": null,
   "metadata": {},
   "outputs": [],
   "source": [
    "data = sc.textFile(\"/Users/haoweichung/Desktop/清大/大三上/data_mining/HW1/500input.txt\")\n",
    "f = open(\"/Users/haoweichung/Desktop/清大/大三上/data_mining/HW1/Output.txt\", \"a\")\n",
    "\n",
    "\n",
    "matM = data.filter(lambda x: x.split(',')[0] == 'M').map(lambda x: ( x.split(',')[2],( x.split(',')[0],  x.split(',')[1],  x.split(',')[3])))\n",
    "matN = data.filter(lambda x: x.split(',')[0] == 'N').map(lambda x: ( x.split(',')[1],( x.split(',')[0],  x.split(',')[2],  x.split(',')[3])))\n",
    "join_data = matM.join(matN).map(lambda x: ((x[1][0][1], x[1][1][1]), int(x[1][0][2]) * int(x[1][1][2]))).reduceByKey(lambda x,y: x+y)\n",
    "result = join_data.sortBy(lambda x: (int(x[0][0]), int(x[0][1]))).collect()\n",
    "\n",
    "for out in result:\n",
    "    f.write('%s,%s,%d\\n'%(out[0][0],out[0][1],out[1]))\n",
    "    print('%s,%s,%d\\n'%(out[0][0],out[0][1],out[1]))\n",
    "f.close()   \n",
    "sc.stop()  \n",
    "\n",
    "\n",
    "\n"
   ]
  },
  {
   "cell_type": "markdown",
   "metadata": {},
   "source": [
    "# MDA_HW1_Matrix_Multiplication\n",
    "\n",
    "首先先用filter將兩個矩陣分開成 MatM, MatN。並把兩組資料map成:\n",
    "$$ (j ,(M,i,{M}_{ij})) $$\n",
    "$$ (j ,(N,k,{N}_{jk})) $$\n",
    "\n",
    "接者，把兩組data join在一起，我們可以得到:\n",
    "\n",
    "$$ (j ,(('M',i,{M}_{ij}),('N',k,{N}_{jk})) $$\n",
    "\n",
    "接者在重新做一次map，把(i,j)當key，元素相乘當作value:\n",
    "\n",
    "$$ ((i,k), {M}_{ij}{N}_{jk}) $$\n",
    "\n",
    "接者做一次reduce把所有擁有相同：\n",
    "$$  (i,k) $$\n",
    "key的pair的value全部相加。最後得到矩陣相乘的結果。\n",
    "\n",
    "\n"
   ]
  }
 ],
 "metadata": {
  "kernelspec": {
   "display_name": "Python 3",
   "language": "python",
   "name": "python3"
  },
  "language_info": {
   "codemirror_mode": {
    "name": "ipython",
    "version": 3
   },
   "file_extension": ".py",
   "mimetype": "text/x-python",
   "name": "python",
   "nbconvert_exporter": "python",
   "pygments_lexer": "ipython3",
   "version": "3.6.9"
  }
 },
 "nbformat": 4,
 "nbformat_minor": 4
}
